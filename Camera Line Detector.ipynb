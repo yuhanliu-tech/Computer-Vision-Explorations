{
 "cells": [
  {
   "cell_type": "code",
   "execution_count": 1,
   "id": "4ae2f52b",
   "metadata": {},
   "outputs": [
    {
     "name": "stdout",
     "output_type": "stream",
     "text": [
      "Can't receive frame (stream end?). Exiting ...\n"
     ]
    }
   ],
   "source": [
    "import cv2\n",
    "\n",
    "cap = cv2.VideoCapture(0) #turn on the primary webcam (0) using VideoCapture function\n",
    "\n",
    "if not cap.isOpened():\n",
    "    print(\"Cannot open camera\")\n",
    "    exit()\n",
    "\n",
    "while True: #infinite loop to generate live feed from camera\n",
    "    ret, img = cap.read() #capture frame by frame\n",
    "    \n",
    "    if not ret:\n",
    "        print(\"Can't receive frame (stream end?). Exiting ...\")\n",
    "        break\n",
    "    \n",
    "    gray = cv2.cvtColor(img, cv2.COLOR_BGR2GRAY) #grayscale\n",
    "    \n",
    "    blur = cv2.GaussianBlur(gray, (5, 5), 0) #blur to easily detect lines\n",
    "    \n",
    "    canny = cv2.Canny(blur, 10, 70) #detect edges\n",
    "    \n",
    "    ret, mask = cv2.threshold(canny, 70, 255, cv2.THRESH_BINARY)\n",
    "    \n",
    "    cv2.imshow('Video feed', mask) #mask to view edges\n",
    "    \n",
    "    if cv2.waitKey(1) == 13: #enter key to close window\n",
    "        break\n",
    "        \n",
    "cap.release()\n",
    "cv2.destroyAllWindows()"
   ]
  },
  {
   "cell_type": "code",
   "execution_count": null,
   "id": "d560c7b9",
   "metadata": {},
   "outputs": [],
   "source": []
  }
 ],
 "metadata": {
  "kernelspec": {
   "display_name": "Python 3",
   "language": "python",
   "name": "python3"
  },
  "language_info": {
   "codemirror_mode": {
    "name": "ipython",
    "version": 3
   },
   "file_extension": ".py",
   "mimetype": "text/x-python",
   "name": "python",
   "nbconvert_exporter": "python",
   "pygments_lexer": "ipython3",
   "version": "3.8.8"
  }
 },
 "nbformat": 4,
 "nbformat_minor": 5
}
